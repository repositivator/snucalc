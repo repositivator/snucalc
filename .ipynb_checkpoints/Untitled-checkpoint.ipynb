{
 "cells": [
  {
   "cell_type": "code",
   "execution_count": 1,
   "metadata": {
    "collapsed": false
   },
   "outputs": [
    {
     "data": {
      "text/plain": [
       "calcmain.models.StudyAnalysis"
      ]
     },
     "execution_count": 1,
     "metadata": {},
     "output_type": "execute_result"
    }
   ],
   "source": [
    "StudyAnalysis"
   ]
  },
  {
   "cell_type": "code",
   "execution_count": 42,
   "metadata": {
    "collapsed": false
   },
   "outputs": [],
   "source": [
    "from django.shortcuts import render, redirect, get_object_or_404\n",
    "study = get_object_or_404(StudyAnalysis, pk=1)\n",
    "import pandas as pd"
   ]
  },
  {
   "cell_type": "code",
   "execution_count": 3,
   "metadata": {
    "collapsed": false
   },
   "outputs": [
    {
     "data": {
      "text/plain": [
       "'Test1'"
      ]
     },
     "execution_count": 3,
     "metadata": {},
     "output_type": "execute_result"
    }
   ],
   "source": [
    "study.study_name"
   ]
  },
  {
   "cell_type": "code",
   "execution_count": 8,
   "metadata": {
    "collapsed": false
   },
   "outputs": [
    {
     "data": {
      "text/html": [
       "<div>\n",
       "<table border=\"1\" class=\"dataframe\">\n",
       "  <thead>\n",
       "    <tr style=\"text-align: right;\">\n",
       "      <th></th>\n",
       "      <th>Patient ID</th>\n",
       "      <th>Number of solid tumor</th>\n",
       "      <th>Number of lymph node</th>\n",
       "      <th>sum_base</th>\n",
       "      <th>sum_post</th>\n",
       "      <th>Lesion size at the baseline (mm)</th>\n",
       "      <th>Percent change (%)</th>\n",
       "    </tr>\n",
       "  </thead>\n",
       "  <tbody>\n",
       "    <tr>\n",
       "      <th>0</th>\n",
       "      <td>1</td>\n",
       "      <td>2</td>\n",
       "      <td>1</td>\n",
       "      <td>140</td>\n",
       "      <td>255</td>\n",
       "      <td>NaN</td>\n",
       "      <td>82</td>\n",
       "    </tr>\n",
       "    <tr>\n",
       "      <th>1</th>\n",
       "      <td>2</td>\n",
       "      <td>1</td>\n",
       "      <td>2</td>\n",
       "      <td>144</td>\n",
       "      <td>154</td>\n",
       "      <td>NaN</td>\n",
       "      <td>6</td>\n",
       "    </tr>\n",
       "    <tr>\n",
       "      <th>2</th>\n",
       "      <td>3</td>\n",
       "      <td>1</td>\n",
       "      <td>2</td>\n",
       "      <td>148</td>\n",
       "      <td>92</td>\n",
       "      <td>NaN</td>\n",
       "      <td>-38</td>\n",
       "    </tr>\n",
       "    <tr>\n",
       "      <th>3</th>\n",
       "      <td>4</td>\n",
       "      <td>3</td>\n",
       "      <td>2</td>\n",
       "      <td>332</td>\n",
       "      <td>469</td>\n",
       "      <td>NaN</td>\n",
       "      <td>41</td>\n",
       "    </tr>\n",
       "    <tr>\n",
       "      <th>4</th>\n",
       "      <td>5</td>\n",
       "      <td>2</td>\n",
       "      <td>1</td>\n",
       "      <td>161</td>\n",
       "      <td>221</td>\n",
       "      <td>NaN</td>\n",
       "      <td>37</td>\n",
       "    </tr>\n",
       "    <tr>\n",
       "      <th>5</th>\n",
       "      <td>6</td>\n",
       "      <td>3</td>\n",
       "      <td>2</td>\n",
       "      <td>388</td>\n",
       "      <td>130</td>\n",
       "      <td>NaN</td>\n",
       "      <td>-67</td>\n",
       "    </tr>\n",
       "    <tr>\n",
       "      <th>6</th>\n",
       "      <td>7</td>\n",
       "      <td>2</td>\n",
       "      <td>1</td>\n",
       "      <td>233</td>\n",
       "      <td>165</td>\n",
       "      <td>NaN</td>\n",
       "      <td>-30</td>\n",
       "    </tr>\n",
       "    <tr>\n",
       "      <th>7</th>\n",
       "      <td>8</td>\n",
       "      <td>0</td>\n",
       "      <td>2</td>\n",
       "      <td>138</td>\n",
       "      <td>89</td>\n",
       "      <td>NaN</td>\n",
       "      <td>-36</td>\n",
       "    </tr>\n",
       "    <tr>\n",
       "      <th>8</th>\n",
       "      <td>9</td>\n",
       "      <td>2</td>\n",
       "      <td>0</td>\n",
       "      <td>62</td>\n",
       "      <td>206</td>\n",
       "      <td>NaN</td>\n",
       "      <td>232</td>\n",
       "    </tr>\n",
       "    <tr>\n",
       "      <th>9</th>\n",
       "      <td>10</td>\n",
       "      <td>3</td>\n",
       "      <td>1</td>\n",
       "      <td>373</td>\n",
       "      <td>239</td>\n",
       "      <td>NaN</td>\n",
       "      <td>-36</td>\n",
       "    </tr>\n",
       "    <tr>\n",
       "      <th>10</th>\n",
       "      <td>11</td>\n",
       "      <td>1</td>\n",
       "      <td>2</td>\n",
       "      <td>188</td>\n",
       "      <td>159</td>\n",
       "      <td>NaN</td>\n",
       "      <td>-16</td>\n",
       "    </tr>\n",
       "    <tr>\n",
       "      <th>11</th>\n",
       "      <td>12</td>\n",
       "      <td>1</td>\n",
       "      <td>2</td>\n",
       "      <td>139</td>\n",
       "      <td>102</td>\n",
       "      <td>NaN</td>\n",
       "      <td>-27</td>\n",
       "    </tr>\n",
       "    <tr>\n",
       "      <th>12</th>\n",
       "      <td>13</td>\n",
       "      <td>2</td>\n",
       "      <td>2</td>\n",
       "      <td>264</td>\n",
       "      <td>108</td>\n",
       "      <td>NaN</td>\n",
       "      <td>-60</td>\n",
       "    </tr>\n",
       "    <tr>\n",
       "      <th>13</th>\n",
       "      <td>14</td>\n",
       "      <td>1</td>\n",
       "      <td>2</td>\n",
       "      <td>218</td>\n",
       "      <td>179</td>\n",
       "      <td>NaN</td>\n",
       "      <td>-18</td>\n",
       "    </tr>\n",
       "    <tr>\n",
       "      <th>14</th>\n",
       "      <td>15</td>\n",
       "      <td>3</td>\n",
       "      <td>1</td>\n",
       "      <td>278</td>\n",
       "      <td>306</td>\n",
       "      <td>NaN</td>\n",
       "      <td>10</td>\n",
       "    </tr>\n",
       "    <tr>\n",
       "      <th>15</th>\n",
       "      <td>16</td>\n",
       "      <td>1</td>\n",
       "      <td>2</td>\n",
       "      <td>126</td>\n",
       "      <td>120</td>\n",
       "      <td>NaN</td>\n",
       "      <td>-5</td>\n",
       "    </tr>\n",
       "    <tr>\n",
       "      <th>16</th>\n",
       "      <td>17</td>\n",
       "      <td>1</td>\n",
       "      <td>2</td>\n",
       "      <td>254</td>\n",
       "      <td>164</td>\n",
       "      <td>NaN</td>\n",
       "      <td>-36</td>\n",
       "    </tr>\n",
       "    <tr>\n",
       "      <th>17</th>\n",
       "      <td>18</td>\n",
       "      <td>2</td>\n",
       "      <td>2</td>\n",
       "      <td>233</td>\n",
       "      <td>209</td>\n",
       "      <td>NaN</td>\n",
       "      <td>-11</td>\n",
       "    </tr>\n",
       "    <tr>\n",
       "      <th>18</th>\n",
       "      <td>19</td>\n",
       "      <td>1</td>\n",
       "      <td>2</td>\n",
       "      <td>191</td>\n",
       "      <td>204</td>\n",
       "      <td>NaN</td>\n",
       "      <td>6</td>\n",
       "    </tr>\n",
       "    <tr>\n",
       "      <th>19</th>\n",
       "      <td>20</td>\n",
       "      <td>2</td>\n",
       "      <td>1</td>\n",
       "      <td>317</td>\n",
       "      <td>258</td>\n",
       "      <td>NaN</td>\n",
       "      <td>-19</td>\n",
       "    </tr>\n",
       "    <tr>\n",
       "      <th>20</th>\n",
       "      <td>21</td>\n",
       "      <td>1</td>\n",
       "      <td>2</td>\n",
       "      <td>237</td>\n",
       "      <td>151</td>\n",
       "      <td>NaN</td>\n",
       "      <td>-37</td>\n",
       "    </tr>\n",
       "    <tr>\n",
       "      <th>21</th>\n",
       "      <td>22</td>\n",
       "      <td>2</td>\n",
       "      <td>2</td>\n",
       "      <td>103</td>\n",
       "      <td>132</td>\n",
       "      <td>NaN</td>\n",
       "      <td>28</td>\n",
       "    </tr>\n",
       "    <tr>\n",
       "      <th>22</th>\n",
       "      <td>23</td>\n",
       "      <td>2</td>\n",
       "      <td>2</td>\n",
       "      <td>375</td>\n",
       "      <td>142</td>\n",
       "      <td>NaN</td>\n",
       "      <td>-63</td>\n",
       "    </tr>\n",
       "    <tr>\n",
       "      <th>23</th>\n",
       "      <td>24</td>\n",
       "      <td>2</td>\n",
       "      <td>2</td>\n",
       "      <td>256</td>\n",
       "      <td>142</td>\n",
       "      <td>NaN</td>\n",
       "      <td>-45</td>\n",
       "    </tr>\n",
       "    <tr>\n",
       "      <th>24</th>\n",
       "      <td>25</td>\n",
       "      <td>4</td>\n",
       "      <td>1</td>\n",
       "      <td>307</td>\n",
       "      <td>480</td>\n",
       "      <td>NaN</td>\n",
       "      <td>56</td>\n",
       "    </tr>\n",
       "    <tr>\n",
       "      <th>25</th>\n",
       "      <td>26</td>\n",
       "      <td>1</td>\n",
       "      <td>2</td>\n",
       "      <td>90</td>\n",
       "      <td>126</td>\n",
       "      <td>NaN</td>\n",
       "      <td>40</td>\n",
       "    </tr>\n",
       "    <tr>\n",
       "      <th>26</th>\n",
       "      <td>27</td>\n",
       "      <td>2</td>\n",
       "      <td>2</td>\n",
       "      <td>224</td>\n",
       "      <td>315</td>\n",
       "      <td>NaN</td>\n",
       "      <td>40</td>\n",
       "    </tr>\n",
       "    <tr>\n",
       "      <th>27</th>\n",
       "      <td>28</td>\n",
       "      <td>2</td>\n",
       "      <td>2</td>\n",
       "      <td>311</td>\n",
       "      <td>259</td>\n",
       "      <td>NaN</td>\n",
       "      <td>-17</td>\n",
       "    </tr>\n",
       "    <tr>\n",
       "      <th>28</th>\n",
       "      <td>29</td>\n",
       "      <td>0</td>\n",
       "      <td>1</td>\n",
       "      <td>45</td>\n",
       "      <td>83</td>\n",
       "      <td>45.0</td>\n",
       "      <td>84</td>\n",
       "    </tr>\n",
       "    <tr>\n",
       "      <th>29</th>\n",
       "      <td>30</td>\n",
       "      <td>1</td>\n",
       "      <td>2</td>\n",
       "      <td>199</td>\n",
       "      <td>84</td>\n",
       "      <td>NaN</td>\n",
       "      <td>-58</td>\n",
       "    </tr>\n",
       "  </tbody>\n",
       "</table>\n",
       "</div>"
      ],
      "text/plain": [
       "    Patient ID  Number of solid tumor  Number of lymph node  sum_base  \\\n",
       "0            1                      2                     1       140   \n",
       "1            2                      1                     2       144   \n",
       "2            3                      1                     2       148   \n",
       "3            4                      3                     2       332   \n",
       "4            5                      2                     1       161   \n",
       "5            6                      3                     2       388   \n",
       "6            7                      2                     1       233   \n",
       "7            8                      0                     2       138   \n",
       "8            9                      2                     0        62   \n",
       "9           10                      3                     1       373   \n",
       "10          11                      1                     2       188   \n",
       "11          12                      1                     2       139   \n",
       "12          13                      2                     2       264   \n",
       "13          14                      1                     2       218   \n",
       "14          15                      3                     1       278   \n",
       "15          16                      1                     2       126   \n",
       "16          17                      1                     2       254   \n",
       "17          18                      2                     2       233   \n",
       "18          19                      1                     2       191   \n",
       "19          20                      2                     1       317   \n",
       "20          21                      1                     2       237   \n",
       "21          22                      2                     2       103   \n",
       "22          23                      2                     2       375   \n",
       "23          24                      2                     2       256   \n",
       "24          25                      4                     1       307   \n",
       "25          26                      1                     2        90   \n",
       "26          27                      2                     2       224   \n",
       "27          28                      2                     2       311   \n",
       "28          29                      0                     1        45   \n",
       "29          30                      1                     2       199   \n",
       "\n",
       "    sum_post  Lesion size at the baseline (mm)  Percent change (%)  \n",
       "0        255                               NaN                  82  \n",
       "1        154                               NaN                   6  \n",
       "2         92                               NaN                 -38  \n",
       "3        469                               NaN                  41  \n",
       "4        221                               NaN                  37  \n",
       "5        130                               NaN                 -67  \n",
       "6        165                               NaN                 -30  \n",
       "7         89                               NaN                 -36  \n",
       "8        206                               NaN                 232  \n",
       "9        239                               NaN                 -36  \n",
       "10       159                               NaN                 -16  \n",
       "11       102                               NaN                 -27  \n",
       "12       108                               NaN                 -60  \n",
       "13       179                               NaN                 -18  \n",
       "14       306                               NaN                  10  \n",
       "15       120                               NaN                  -5  \n",
       "16       164                               NaN                 -36  \n",
       "17       209                               NaN                 -11  \n",
       "18       204                               NaN                   6  \n",
       "19       258                               NaN                 -19  \n",
       "20       151                               NaN                 -37  \n",
       "21       132                               NaN                  28  \n",
       "22       142                               NaN                 -63  \n",
       "23       142                               NaN                 -45  \n",
       "24       480                               NaN                  56  \n",
       "25       126                               NaN                  40  \n",
       "26       315                               NaN                  40  \n",
       "27       259                               NaN                 -17  \n",
       "28        83                              45.0                  84  \n",
       "29        84                               NaN                 -58  "
      ]
     },
     "execution_count": 8,
     "metadata": {},
     "output_type": "execute_result"
    }
   ],
   "source": [
    "processed_df = study.processed_df\n",
    "processed_df"
   ]
  },
  {
   "cell_type": "code",
   "execution_count": 7,
   "metadata": {
    "collapsed": false
   },
   "outputs": [
    {
     "data": {
      "text/plain": [
       "30"
      ]
     },
     "execution_count": 7,
     "metadata": {},
     "output_type": "execute_result"
    }
   ],
   "source": [
    "len(processed_df.index)"
   ]
  },
  {
   "cell_type": "code",
   "execution_count": 15,
   "metadata": {
    "collapsed": false
   },
   "outputs": [
    {
     "data": {
      "text/plain": [
       "-58"
      ]
     },
     "execution_count": 15,
     "metadata": {},
     "output_type": "execute_result"
    }
   ],
   "source": [
    "processed_df.loc[:, \"Percent change (%)\"][29]"
   ]
  },
  {
   "cell_type": "code",
   "execution_count": 103,
   "metadata": {
    "collapsed": false
   },
   "outputs": [
    {
     "name": "stdout",
     "output_type": "stream",
     "text": [
      "50\n"
     ]
    }
   ],
   "source": [
    "processed_df = study.processed_df\n",
    "up_patients = study.up_patients\n",
    "num_all_patients = len(processed_df.index) + up_patients\n",
    "print(num_all_patients)"
   ]
  },
  {
   "cell_type": "code",
   "execution_count": 31,
   "metadata": {
    "collapsed": false
   },
   "outputs": [
    {
     "name": "stdout",
     "output_type": "stream",
     "text": [
      "20.0 58.0\n"
     ]
    }
   ],
   "source": [
    "num_partial_response = num_progression = 0\n",
    "\n",
    "for id in range(len(processed_df.index)):\n",
    "    if processed_df.loc[:, \"Percent change (%)\"][id] < -30:\n",
    "        num_partial_response += 1\n",
    "    elif processed_df.loc[:, \"Percent change (%)\"][id] >= 20:\n",
    "        num_progression += 1\n",
    "        \n",
    "# 10 9\n",
    "\n",
    "partial_response_prop = round(num_partial_response / num_all_patients * 100, 2)\n",
    "progression_prop = round((num_progression + up_patients) / num_all_patients * 100, 2)\n",
    "\n",
    "print(partial_response_prop, progression_prop)"
   ]
  },
  {
   "cell_type": "code",
   "execution_count": 34,
   "metadata": {
    "collapsed": false
   },
   "outputs": [
    {
     "data": {
      "text/plain": [
       "[232,\n",
       " 84,\n",
       " 82,\n",
       " 56,\n",
       " 41,\n",
       " 40,\n",
       " 40,\n",
       " 37,\n",
       " 28,\n",
       " 10,\n",
       " 6,\n",
       " 6,\n",
       " -5,\n",
       " -11,\n",
       " -16,\n",
       " -17,\n",
       " -18,\n",
       " -19,\n",
       " -27,\n",
       " -30,\n",
       " -36,\n",
       " -36,\n",
       " -36,\n",
       " -37,\n",
       " -38,\n",
       " -45,\n",
       " -58,\n",
       " -60,\n",
       " -63,\n",
       " -67]"
      ]
     },
     "execution_count": 34,
     "metadata": {},
     "output_type": "execute_result"
    }
   ],
   "source": [
    "sorted(processed_df.loc[:, \"Percent change (%)\"], reverse=True)"
   ]
  },
  {
   "cell_type": "code",
   "execution_count": 37,
   "metadata": {
    "collapsed": false
   },
   "outputs": [
    {
     "data": {
      "text/plain": [
       "[0,\n",
       " 1,\n",
       " 2,\n",
       " 3,\n",
       " 4,\n",
       " 5,\n",
       " 6,\n",
       " 7,\n",
       " 8,\n",
       " 9,\n",
       " 10,\n",
       " 11,\n",
       " 12,\n",
       " 13,\n",
       " 14,\n",
       " 15,\n",
       " 16,\n",
       " 17,\n",
       " 18,\n",
       " 19,\n",
       " 20,\n",
       " 21,\n",
       " 22,\n",
       " 23,\n",
       " 24,\n",
       " 25,\n",
       " 26,\n",
       " 27,\n",
       " 28,\n",
       " 29]"
      ]
     },
     "execution_count": 37,
     "metadata": {},
     "output_type": "execute_result"
    }
   ],
   "source": [
    "x = [i for i in range(len(processed_df.index))]\n",
    "x"
   ]
  },
  {
   "cell_type": "code",
   "execution_count": 65,
   "metadata": {
    "collapsed": false
   },
   "outputs": [
    {
     "data": {
      "text/plain": [
       "array([ 82,   6, -38,  41,  37, -67, -30, -36, 232, -36, -16, -27, -60,\n",
       "       -18,  10,  -5, -36, -11,   6, -19, -37,  28, -63, -45,  56,  40,\n",
       "        40, -17,  84, -58], dtype=int64)"
      ]
     },
     "execution_count": 65,
     "metadata": {},
     "output_type": "execute_result"
    }
   ],
   "source": [
    "processed_df[\"Percent change (%)\"].values.flatten()\n",
    "\n",
    "# column은 알파벳순으로 자동정렬\n",
    "data={'state':['Ohio','Ohio','Ohio','Nevada','Nevada'],\n",
    "     'year':[2000,2001,2002,2001,2002],\n",
    "     'pop':[1.5,1.7,3.6,2.4,2.9]}\n",
    "df=DataFrame(data)\n",
    "df"
   ]
  },
  {
   "cell_type": "code",
   "execution_count": 69,
   "metadata": {
    "collapsed": false
   },
   "outputs": [
    {
     "data": {
      "text/plain": [
       "[232,\n",
       " 84,\n",
       " 82,\n",
       " 56,\n",
       " 41,\n",
       " 40,\n",
       " 40,\n",
       " 37,\n",
       " 28,\n",
       " 10,\n",
       " 6,\n",
       " 6,\n",
       " -5,\n",
       " -11,\n",
       " -16,\n",
       " -17,\n",
       " -18,\n",
       " -19,\n",
       " -27,\n",
       " -30,\n",
       " -36,\n",
       " -36,\n",
       " -36,\n",
       " -37,\n",
       " -38,\n",
       " -45,\n",
       " -58,\n",
       " -60,\n",
       " -63,\n",
       " -67]"
      ]
     },
     "execution_count": 69,
     "metadata": {},
     "output_type": "execute_result"
    }
   ],
   "source": [
    "sorted(processed_df.loc[:, \"Percent change (%)\"], reverse=True)"
   ]
  },
  {
   "cell_type": "code",
   "execution_count": 80,
   "metadata": {
    "collapsed": false
   },
   "outputs": [
    {
     "data": {
      "text/plain": [
       "[['Index', 'Percent change (%)'],\n",
       " [1, 232],\n",
       " [2, 84],\n",
       " [3, 82],\n",
       " [4, 56],\n",
       " [5, 41],\n",
       " [6, 40],\n",
       " [7, 40],\n",
       " [8, 37],\n",
       " [9, 28],\n",
       " [10, 10],\n",
       " [11, 6],\n",
       " [12, 6],\n",
       " [13, -5],\n",
       " [14, -11],\n",
       " [15, -16],\n",
       " [16, -17],\n",
       " [17, -18],\n",
       " [18, -19],\n",
       " [19, -27],\n",
       " [20, -30],\n",
       " [21, -36],\n",
       " [22, -36],\n",
       " [23, -36],\n",
       " [24, -37],\n",
       " [25, -38],\n",
       " [26, -45],\n",
       " [27, -58],\n",
       " [28, -60],\n",
       " [29, -63],\n",
       " [30, -67]]"
      ]
     },
     "execution_count": 80,
     "metadata": {},
     "output_type": "execute_result"
    }
   ],
   "source": [
    "new_data = {'Index': [i+1 for i in range(len(processed_df.index))],\n",
    "           'Percent change (%)': sorted(processed_df.loc[:, \"Percent change (%)\"], reverse=True)}\n",
    "change_df = pd.DataFrame(new_data)\n",
    "change_df.loc[-1] = ['Index','Percent change (%)']  \n",
    "change_df.index = change_df.index + 1  \n",
    "change_df = change_df.sort_index()\n",
    "change_df\n",
    "change_df.values.tolist()"
   ]
  },
  {
   "cell_type": "code",
   "execution_count": 59,
   "metadata": {
    "collapsed": false
   },
   "outputs": [
    {
     "data": {
      "text/plain": [
       "[[9, 232],\n",
       " [29, 84],\n",
       " [1, 82],\n",
       " [25, 56],\n",
       " [4, 41],\n",
       " [27, 40],\n",
       " [26, 40],\n",
       " [5, 37],\n",
       " [22, 28],\n",
       " [15, 10],\n",
       " [19, 6],\n",
       " [2, 6],\n",
       " [16, -5],\n",
       " [18, -11],\n",
       " [11, -16],\n",
       " [28, -17],\n",
       " [14, -18],\n",
       " [20, -19],\n",
       " [12, -27],\n",
       " [7, -30],\n",
       " [8, -36],\n",
       " [10, -36],\n",
       " [17, -36],\n",
       " [21, -37],\n",
       " [3, -38],\n",
       " [24, -45],\n",
       " [30, -58],\n",
       " [13, -60],\n",
       " [23, -63],\n",
       " [6, -67]]"
      ]
     },
     "execution_count": 59,
     "metadata": {},
     "output_type": "execute_result"
    }
   ],
   "source": [
    "change_df.values.tolist()"
   ]
  },
  {
   "cell_type": "code",
   "execution_count": 109,
   "metadata": {
    "collapsed": false
   },
   "outputs": [
    {
     "data": {
      "text/html": [
       "<div>\n",
       "<table border=\"1\" class=\"dataframe\">\n",
       "  <thead>\n",
       "    <tr style=\"text-align: right;\">\n",
       "      <th></th>\n",
       "      <th>Index</th>\n",
       "      <th>Percent change (%)</th>\n",
       "    </tr>\n",
       "  </thead>\n",
       "  <tbody>\n",
       "    <tr>\n",
       "      <th>0</th>\n",
       "      <td>1</td>\n",
       "      <td>232</td>\n",
       "    </tr>\n",
       "    <tr>\n",
       "      <th>1</th>\n",
       "      <td>2</td>\n",
       "      <td>84</td>\n",
       "    </tr>\n",
       "    <tr>\n",
       "      <th>2</th>\n",
       "      <td>3</td>\n",
       "      <td>82</td>\n",
       "    </tr>\n",
       "    <tr>\n",
       "      <th>3</th>\n",
       "      <td>4</td>\n",
       "      <td>56</td>\n",
       "    </tr>\n",
       "    <tr>\n",
       "      <th>4</th>\n",
       "      <td>5</td>\n",
       "      <td>41</td>\n",
       "    </tr>\n",
       "    <tr>\n",
       "      <th>5</th>\n",
       "      <td>6</td>\n",
       "      <td>40</td>\n",
       "    </tr>\n",
       "    <tr>\n",
       "      <th>6</th>\n",
       "      <td>7</td>\n",
       "      <td>40</td>\n",
       "    </tr>\n",
       "    <tr>\n",
       "      <th>7</th>\n",
       "      <td>8</td>\n",
       "      <td>37</td>\n",
       "    </tr>\n",
       "    <tr>\n",
       "      <th>8</th>\n",
       "      <td>9</td>\n",
       "      <td>28</td>\n",
       "    </tr>\n",
       "    <tr>\n",
       "      <th>9</th>\n",
       "      <td>10</td>\n",
       "      <td>10</td>\n",
       "    </tr>\n",
       "    <tr>\n",
       "      <th>10</th>\n",
       "      <td>11</td>\n",
       "      <td>6</td>\n",
       "    </tr>\n",
       "    <tr>\n",
       "      <th>11</th>\n",
       "      <td>12</td>\n",
       "      <td>6</td>\n",
       "    </tr>\n",
       "    <tr>\n",
       "      <th>12</th>\n",
       "      <td>13</td>\n",
       "      <td>-5</td>\n",
       "    </tr>\n",
       "    <tr>\n",
       "      <th>13</th>\n",
       "      <td>14</td>\n",
       "      <td>-11</td>\n",
       "    </tr>\n",
       "    <tr>\n",
       "      <th>14</th>\n",
       "      <td>15</td>\n",
       "      <td>-16</td>\n",
       "    </tr>\n",
       "    <tr>\n",
       "      <th>15</th>\n",
       "      <td>16</td>\n",
       "      <td>-17</td>\n",
       "    </tr>\n",
       "    <tr>\n",
       "      <th>16</th>\n",
       "      <td>17</td>\n",
       "      <td>-18</td>\n",
       "    </tr>\n",
       "    <tr>\n",
       "      <th>17</th>\n",
       "      <td>18</td>\n",
       "      <td>-19</td>\n",
       "    </tr>\n",
       "    <tr>\n",
       "      <th>18</th>\n",
       "      <td>19</td>\n",
       "      <td>-27</td>\n",
       "    </tr>\n",
       "    <tr>\n",
       "      <th>19</th>\n",
       "      <td>20</td>\n",
       "      <td>-30</td>\n",
       "    </tr>\n",
       "    <tr>\n",
       "      <th>20</th>\n",
       "      <td>21</td>\n",
       "      <td>-36</td>\n",
       "    </tr>\n",
       "    <tr>\n",
       "      <th>21</th>\n",
       "      <td>22</td>\n",
       "      <td>-36</td>\n",
       "    </tr>\n",
       "    <tr>\n",
       "      <th>22</th>\n",
       "      <td>23</td>\n",
       "      <td>-36</td>\n",
       "    </tr>\n",
       "    <tr>\n",
       "      <th>23</th>\n",
       "      <td>24</td>\n",
       "      <td>-37</td>\n",
       "    </tr>\n",
       "    <tr>\n",
       "      <th>24</th>\n",
       "      <td>25</td>\n",
       "      <td>-38</td>\n",
       "    </tr>\n",
       "    <tr>\n",
       "      <th>25</th>\n",
       "      <td>26</td>\n",
       "      <td>-45</td>\n",
       "    </tr>\n",
       "    <tr>\n",
       "      <th>26</th>\n",
       "      <td>27</td>\n",
       "      <td>-58</td>\n",
       "    </tr>\n",
       "    <tr>\n",
       "      <th>27</th>\n",
       "      <td>28</td>\n",
       "      <td>-60</td>\n",
       "    </tr>\n",
       "    <tr>\n",
       "      <th>28</th>\n",
       "      <td>29</td>\n",
       "      <td>-63</td>\n",
       "    </tr>\n",
       "    <tr>\n",
       "      <th>29</th>\n",
       "      <td>30</td>\n",
       "      <td>-67</td>\n",
       "    </tr>\n",
       "  </tbody>\n",
       "</table>\n",
       "</div>"
      ],
      "text/plain": [
       "    Index  Percent change (%)\n",
       "0       1                 232\n",
       "1       2                  84\n",
       "2       3                  82\n",
       "3       4                  56\n",
       "4       5                  41\n",
       "5       6                  40\n",
       "6       7                  40\n",
       "7       8                  37\n",
       "8       9                  28\n",
       "9      10                  10\n",
       "10     11                   6\n",
       "11     12                   6\n",
       "12     13                  -5\n",
       "13     14                 -11\n",
       "14     15                 -16\n",
       "15     16                 -17\n",
       "16     17                 -18\n",
       "17     18                 -19\n",
       "18     19                 -27\n",
       "19     20                 -30\n",
       "20     21                 -36\n",
       "21     22                 -36\n",
       "22     23                 -36\n",
       "23     24                 -37\n",
       "24     25                 -38\n",
       "25     26                 -45\n",
       "26     27                 -58\n",
       "27     28                 -60\n",
       "28     29                 -63\n",
       "29     30                 -67"
      ]
     },
     "execution_count": 109,
     "metadata": {},
     "output_type": "execute_result"
    }
   ],
   "source": [
    "# processed_df = processed_df.sort_values(by='Percent change (%)', ascending=False)\n",
    "# processed_df\n",
    "\n",
    "new_data = {'Index': [i+1 for i in range(len(processed_df.index))],\n",
    "           'Percent change (%)': sorted(processed_df.loc[:, \"Percent change (%)\"], reverse=True)}\n",
    "sorted_df = pd.DataFrame(new_data)\n",
    "sorted_df"
   ]
  },
  {
   "cell_type": "code",
   "execution_count": 122,
   "metadata": {
    "collapsed": false
   },
   "outputs": [
    {
     "name": "stderr",
     "output_type": "stream",
     "text": [
      "INFO:bokeh.core.state:Session output file 'bar2.html' already exists, will be overwritten.\n"
     ]
    }
   ],
   "source": [
    "from bokeh.charts import Bar, output_file, show\n",
    "from bokeh.sampledata.autompg import autompg as df\n",
    "from bokeh.models import Range1d\n",
    "\n",
    "sorted_plot = Bar(sorted_df, values='Percent change (%)', color=\"Blue\", title='Percent change (%)', legend=None, ylabel=\"\")\n",
    "# sorted_plot.set(y_range=Range1d(-100, 100))\n",
    "sorted_plot.y_range = Range1d(-100, 100)    \n",
    "sorted_plot.xaxis.visible = False\n",
    "output_file(\"bar2.html\")\n",
    "show(sorted_plot)"
   ]
  },
  {
   "cell_type": "code",
   "execution_count": 115,
   "metadata": {
    "collapsed": false
   },
   "outputs": [
    {
     "data": {
      "text/plain": [
       "range(-100, 100)"
      ]
     },
     "execution_count": 115,
     "metadata": {},
     "output_type": "execute_result"
    }
   ],
   "source": [
    "from bokeh.models import Range1d\n",
    "\n",
    "fig = make_fig()\n",
    "left, right, bottom, top = 3, 9, 4, 10\n",
    "fig.set(x_range=Range1d(left, right), y_range=Range1d(bottom, top))\n",
    "show(fig)"
   ]
  },
  {
   "cell_type": "code",
   "execution_count": 116,
   "metadata": {
    "collapsed": false
   },
   "outputs": [
    {
     "name": "stdout",
     "output_type": "stream",
     "text": [
      "-3\n",
      "-2\n",
      "-1\n",
      "0\n",
      "1\n",
      "2\n"
     ]
    }
   ],
   "source": [
    "for i in range(-3, 3):\n",
    "    print(i)"
   ]
  },
  {
   "cell_type": "code",
   "execution_count": 123,
   "metadata": {
    "collapsed": true
   },
   "outputs": [],
   "source": [
    "from bokeh.plotting import figure\n",
    "from bokeh.resources import CDN\n",
    "from bokeh.embed import components\n",
    "\n",
    "script, div = components(sorted_plot)"
   ]
  },
  {
   "cell_type": "code",
   "execution_count": 125,
   "metadata": {
    "collapsed": false
   },
   "outputs": [
    {
     "data": {
      "text/plain": [
       "'\\n<div class=\"bk-root\">\\n    <div class=\"plotdiv\" id=\"55d99ed7-8296-4867-9b02-af3149fe2cb2\"></div>\\n</div>'"
      ]
     },
     "execution_count": 125,
     "metadata": {},
     "output_type": "execute_result"
    }
   ],
   "source": [
    "div"
   ]
  },
  {
   "cell_type": "code",
   "execution_count": null,
   "metadata": {
    "collapsed": true
   },
   "outputs": [],
   "source": []
  }
 ],
 "metadata": {
  "kernelspec": {
   "display_name": "Django Shell-Plus",
   "language": "python",
   "name": "django_extensions"
  },
  "language_info": {
   "codemirror_mode": {
    "name": "ipython",
    "version": 3
   },
   "file_extension": ".py",
   "mimetype": "text/x-python",
   "name": "python",
   "nbconvert_exporter": "python",
   "pygments_lexer": "ipython3",
   "version": "3.5.2"
  }
 },
 "nbformat": 4,
 "nbformat_minor": 0
}
